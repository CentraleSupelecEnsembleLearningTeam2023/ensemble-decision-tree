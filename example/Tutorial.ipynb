{
 "cells": [
  {
   "cell_type": "markdown",
   "metadata": {},
   "source": [
    "# Classification and Regression"
   ]
  },
  {
   "cell_type": "code",
   "execution_count": 32,
   "metadata": {},
   "outputs": [],
   "source": [
    "import numpy as np\n",
    "from sklearn.datasets import load_iris\n",
    "from sklearn.datasets import load_diabetes\n",
    "from sklearn.datasets import fetch_california_housing\n",
    "from sklearn.datasets import load_digits\n",
    "from sklearn.model_selection import train_test_split\n",
    "from sklearn.metrics import mean_squared_error, mean_absolute_error, r2_score\n",
    "import sys\n",
    "sys.path.append(\"..\")\n",
    "from decisiontree.DecisionTree import DecisionTreeClassification,DecisionTreeRegression\n",
    "from sklearn.model_selection import GridSearchCV"
   ]
  },
  {
   "cell_type": "code",
   "execution_count": 16,
   "metadata": {},
   "outputs": [
    {
     "name": "stdout",
     "output_type": "stream",
     "text": [
      "Best parameters: {'min_samples_split': 2, 'max_depth': 3}\n",
      "Accuracy: 0.9733333333333334\n"
     ]
    }
   ],
   "source": [
    "# Load iris dataset\n",
    "iris = load_iris()\n",
    "X, y = iris.data, iris.target\n",
    "\n",
    "# Split data into train and test sets\n",
    "X_train, X_test, y_train, y_test = train_test_split(X, y, test_size=0.5, random_state=42)\n",
    "\n",
    "parameters = {'min_samples_split':[2,5,10,20], 'max_depth':[1, 3, 5]}\n",
    "\n",
    "# Loop all possible hyperparameter combinations to find the best combination\n",
    "best_accuracy = 0\n",
    "for min_samples_split in parameters['min_samples_split']:\n",
    "    for max_depth in parameters['max_depth']:\n",
    "        # Define and fit the decision tree classifier with current parameter values\n",
    "        clf = DecisionTreeClassification(min_samples_split=min_samples_split, max_depth=max_depth)\n",
    "        clf.fit(X_train, y_train)\n",
    "\n",
    "        # Predict on test set and calculate accuracy\n",
    "        y_pred = clf.predict(X_test)\n",
    "        accuracy = np.mean(y_pred == y_test)\n",
    "\n",
    "        # Check if current model is the best one, if yes, update the best value\n",
    "        if accuracy > best_accuracy:\n",
    "            best_accuracy = accuracy\n",
    "            best_parameters = {'min_samples_split': min_samples_split, 'max_depth': max_depth}\n",
    "\n",
    "# Print the best hyperparameters and accuracy score\n",
    "print(f\"Best parameters: {best_parameters}\")\n",
    "print(f\"Accuracy: {best_accuracy}\")\n",
    "\n",
    "# print(y_pred)\n",
    "# print(y_test)"
   ]
  },
  {
   "cell_type": "code",
   "execution_count": 19,
   "metadata": {},
   "outputs": [
    {
     "name": "stdout",
     "output_type": "stream",
     "text": [
      "Best parameters: {'min_samples_split': 2, 'max_depth': 10}\n",
      "Accuracy: 0.8342602892102335\n"
     ]
    }
   ],
   "source": [
    "# Load digits dataset\n",
    "digits = load_digits()\n",
    "X, y = digits.data, digits.target\n",
    "\n",
    "# Split data into train and test sets\n",
    "X_train, X_test, y_train, y_test = train_test_split(X, y, test_size=0.5, random_state=42)\n",
    "\n",
    "parameters = {'min_samples_split':[1, 2, 5], 'max_depth':[7, 10, 13]}\n",
    "\n",
    "# Loop all possible hyperparameter combinations to find the best combination\n",
    "best_accuracy = 0\n",
    "for min_samples_split in parameters['min_samples_split']:\n",
    "    for max_depth in parameters['max_depth']:\n",
    "        # Define and fit the decision tree classifier with current parameter values\n",
    "        clf = DecisionTreeClassification(min_samples_split=min_samples_split, max_depth=max_depth)\n",
    "        clf.fit(X_train, y_train)\n",
    "\n",
    "        # Predict on test set and calculate accuracy\n",
    "        y_pred = clf.predict(X_test)\n",
    "        accuracy = np.mean(y_pred == y_test)\n",
    "\n",
    "        # Check if current model is the best one, if yes, update the best value\n",
    "        if accuracy > best_accuracy:\n",
    "            best_accuracy = accuracy\n",
    "            best_parameters = {'min_samples_split': min_samples_split, 'max_depth': max_depth}\n",
    "\n",
    "# Print the best hyperparameters and accuracy score\n",
    "print(f\"Best parameters: {best_parameters}\")\n",
    "print(f\"Accuracy: {best_accuracy}\")\n",
    "\n",
    "# print(y_pred)\n",
    "# print(y_test)"
   ]
  },
  {
   "cell_type": "code",
   "execution_count": 37,
   "metadata": {},
   "outputs": [
    {
     "name": "stderr",
     "output_type": "stream",
     "text": [
      "  0%|          | 0/3 [00:00<?, ?it/s]"
     ]
    }
   ],
   "source": [
    "# Load housing dataset\n",
    "housing = fetch_california_housing()\n",
    "X, y = housing.data, housing.target\n",
    "\n",
    "# Split data into train and test sets\n",
    "X_train, X_test, y_train, y_test = train_test_split(X, y, test_size=0.3, random_state=42)\n",
    "\n",
    "parameters = {'min_samples_split':[10,13,16], 'max_depth':[3, 5, 7]}\n",
    "# get (13,5) as the best combination with smaller sample size\n",
    "from tqdm import tqdm\n",
    "# Loop all possible hyperparameter combinations to find the best combination\n",
    "best_R2 = 0\n",
    "for min_samples_split in tqdm(parameters['min_samples_split']):\n",
    "    for max_depth in parameters['max_depth']:\n",
    "        # Define and fit the decision tree classifier with current parameter values\n",
    "        clf = DecisionTreeRegression(min_samples_split=min_samples_split, max_depth=max_depth)\n",
    "        clf.fit(X_train, y_train)\n",
    "\n",
    "        # Predict on test set and calculate accuracy\n",
    "        y_pred = clf.predict(X_test)\n",
    "        R2 =  r2_score(y_test, y_pred)\n",
    "\n",
    "        # Check if current model is the best one, if yes, update the best value\n",
    "        if R2 > best_R2:\n",
    "            best_R2 = R2\n",
    "            best_parameters = {'min_samples_split': min_samples_split, 'max_depth': max_depth}\n",
    "\n",
    "# Print the best hyperparameters and accuracy score\n",
    "print(f\"Best parameters: {best_parameters}\")\n",
    "print(f\"R2: {best_R2}\")\n",
    "\n",
    "# print(y_pred)\n",
    "# print(y_test)"
   ]
  }
 ],
 "metadata": {
  "kernelspec": {
   "display_name": "Python 3",
   "language": "python",
   "name": "python3"
  },
  "language_info": {
   "codemirror_mode": {
    "name": "ipython",
    "version": 3
   },
   "file_extension": ".py",
   "mimetype": "text/x-python",
   "name": "python",
   "nbconvert_exporter": "python",
   "pygments_lexer": "ipython3",
   "version": "3.9.13"
  }
 },
 "nbformat": 4,
 "nbformat_minor": 2
}
